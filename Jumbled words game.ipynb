{
 "cells": [
  {
   "cell_type": "code",
   "execution_count": null,
   "metadata": {},
   "outputs": [],
   "source": [
    "import random\n",
    "def choose():\n",
    "    word_list=[\"water\",\"bubble\",\"lamp\",\"voice\",\"mute\",\"coffee\",\"vaccum\",\"tour\",\"week\",\"queen\"]\n",
    "    a=random.choice(word_list)\n",
    "    return a\n",
    "def jumble(wordn):\n",
    "    pick=\"\".join(random.sample(wordn,len(wordn)))\n",
    "    return pick\n",
    "def thank(p1n,p2n,p1,p2):\n",
    "    print(\"Your score is:\",p1)\n",
    "    print(\"Your score is:\",p1)\n",
    "    print(\"Thankyou for playing\")\n",
    "def play():\n",
    "    p1=input(\"enter the name\")\n",
    "    p2=input(\"enter the name\")\n",
    "    pp1=0\n",
    "    pp2=0\n",
    "    turn=0\n",
    "    while(1):\n",
    "        word=choose()\n",
    "        q=jumble(word)\n",
    "        print(q)\n",
    "        if(turn%2==0):\n",
    "            print(\"Its the turn of \",p1)\n",
    "            ans=input(\"enter your answer: \")\n",
    "            if(word==ans):\n",
    "                pp1=pp1+1\n",
    "                print(\"you are right! Your score is: \",pp1)\n",
    "                #turn++\n",
    "            else:\n",
    "                print(\"Better luck next time, the word was: \",word)\n",
    "                #turn++\n",
    "                c=input(\"Press 1 to continue and 0 to exit \")\n",
    "                if c=='0':\n",
    "                    thank(p1,p2,pp1,pp2)\n",
    "                    break\n",
    "        else:\n",
    "            print(\"Its the turn of \",p2)\n",
    "            ans=input(\"enter your answer: \")\n",
    "            if(word==ans):\n",
    "                pp2=pp2+1\n",
    "                print(\"you are right! Your score is: \",pp2)\n",
    "                #turn++\n",
    "            else:\n",
    "                print(\"Better luck next time, the word was: \",word)\n",
    "                #turn++\n",
    "                c=input(\"Press 1 to continue and 0 to exit \")\n",
    "                if c=='0':\n",
    "                    thank(p1,p2,pp1,pp2)\n",
    "                    break\n",
    "        turn=turn+1 \n",
    "play()                    "
   ]
  },
  {
   "cell_type": "code",
   "execution_count": null,
   "metadata": {},
   "outputs": [],
   "source": []
  },
  {
   "cell_type": "code",
   "execution_count": null,
   "metadata": {},
   "outputs": [],
   "source": []
  },
  {
   "cell_type": "code",
   "execution_count": null,
   "metadata": {},
   "outputs": [],
   "source": []
  }
 ],
 "metadata": {
  "kernelspec": {
   "display_name": "Python 3",
   "language": "python",
   "name": "python3"
  },
  "language_info": {
   "codemirror_mode": {
    "name": "ipython",
    "version": 3
   },
   "file_extension": ".py",
   "mimetype": "text/x-python",
   "name": "python",
   "nbconvert_exporter": "python",
   "pygments_lexer": "ipython3",
   "version": "3.7.4"
  }
 },
 "nbformat": 4,
 "nbformat_minor": 2
}
print("hello")
